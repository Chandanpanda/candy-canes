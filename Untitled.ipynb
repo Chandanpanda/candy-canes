{
 "cells": [
  {
   "cell_type": "code",
   "execution_count": 1,
   "metadata": {},
   "outputs": [
    {
     "name": "stdout",
     "output_type": "stream",
     "text": [
      "Loading environment football failed: No module named 'gfootball'\n"
     ]
    }
   ],
   "source": [
    "#!/usr/bin/python\n",
    "\n",
    "import os\n",
    "import random\n",
    "import argparse\n",
    "import multiprocessing\n",
    "import numpy as np\n",
    "import pandas as pd\n",
    "from kaggle_environments import make"
   ]
  },
  {
   "cell_type": "code",
   "execution_count": 2,
   "metadata": {},
   "outputs": [],
   "source": [
    "def seed_everything(seed):\n",
    "    random.seed(seed)\n",
    "    np.random.seed(seed)\n",
    "    os.environ[\"PYTHONHASHSEED\"] = str(seed)"
   ]
  },
  {
   "cell_type": "code",
   "execution_count": 28,
   "metadata": {},
   "outputs": [],
   "source": [
    "def eval_files(params):\n",
    "\n",
    "    # unpack input\n",
    "    seed, agent0, agent1 = params\n",
    "    seed_everything(seed)\n",
    "\n",
    "    # run the match\n",
    "    env = make(\"mab\", debug=True)\n",
    "    env.run([agent0, agent1])\n",
    "    \n",
    "    # get the number of steps in the env\n",
    "    steps = env.configuration.episodeSteps\n",
    "\n",
    "    # observations at each step\n",
    "    my_obs = [env.steps[s][0].observation for s in range(steps)]\n",
    "    op_obs = [env.steps[s][1].observation for s in range(steps)]\n",
    "    thresholds = [env.steps[s][0].observation.thresholds for s in range(steps)]\n",
    "    thresholds = np.ceil(thresholds) / 100\n",
    "\n",
    "    # extract raw scores\n",
    "    scores0 = my_obs[-1].reward\n",
    "    scores1 = op_obs[-1].reward\n",
    "\n",
    "    # calculate expected scores\n",
    "    escore0 = 0\n",
    "    escore1 = 0\n",
    "    for s in range(steps):\n",
    "        action0 = env.steps[s][0].action\n",
    "        escore0 += thresholds[s][action0]\n",
    "\n",
    "        action1 = env.steps[s][1].action\n",
    "        escore1 += thresholds[s][action1]\n",
    "\n",
    "    # return results\n",
    "    return dict(\n",
    "        expected_score_0    = escore0,\n",
    "        expected_score_1    = escore1,\n",
    "        expected_win_rate_1 = 100*(escore1 > escore0),\n",
    "        raw_score_0         = scores0,\n",
    "        raw_score_1         = scores1,        \n",
    "        raw_win_rate_1      = 100*(scores1 > scores0)\n",
    "    )"
   ]
  },
  {
   "cell_type": "code",
   "execution_count": 22,
   "metadata": {},
   "outputs": [],
   "source": [
    "import argparse\n",
    "args = argparse.Namespace(\n",
    "    agent0 = \"./agent.py\",\n",
    "    agent1 = \"./agent.py\",\n",
    "    n_threads = 100,\n",
    "    n_matches = 100\n",
    ")"
   ]
  },
  {
   "cell_type": "code",
   "execution_count": 29,
   "metadata": {},
   "outputs": [
    {
     "name": "stdout",
     "output_type": "stream",
     "text": [
      "expected_score_0     610.218\n",
      "expected_score_1     609.882\n",
      "expected_win_rate_1   45.000\n",
      "raw_score_0          628.310\n",
      "raw_score_1          631.990\n",
      "raw_win_rate_1        56.000\n"
     ]
    }
   ],
   "source": [
    "# run matches\n",
    "if args.n_threads <= 0:\n",
    "    pool = multiprocessing.Pool(multiprocessing.cpu_count())\n",
    "else:\n",
    "    pool = multiprocessing.Pool(args.n_threads)\n",
    "\n",
    "results = pool.map(eval_files, [\n",
    "    (seed, args.agent0, args.agent1)\n",
    "    for seed in range(args.n_matches)\n",
    "])\n",
    "\n",
    "pool.close()\n",
    "\n",
    "# aggregate results\n",
    "df = pd.DataFrame(results).mean()\n",
    "print(f\"{args.agent0} vs {args.agent1} ({args.n_matches} matches)\")\n",
    "print(\"\\n\".join([f\"{x:<20} {y:>7.2f}\" for x,y in zip(df.index, df.values)]))"
   ]
  },
  {
   "cell_type": "code",
   "execution_count": 33,
   "metadata": {},
   "outputs": [
    {
     "name": "stdout",
     "output_type": "stream",
     "text": [
      "./agent.py vs ./agent.py (100 matches)\n",
      "expected_score_0      610.22\n",
      "expected_score_1      609.88\n",
      "expected_win_rate_1    45.00\n",
      "raw_score_0           628.31\n",
      "raw_score_1           631.99\n",
      "raw_win_rate_1         56.00\n"
     ]
    }
   ],
   "source": [
    "print(f\"{args.agent0} vs {args.agent1} ({args.n_matches} matches)\")\n",
    "print(\"\\n\".join([f\"{x:<20} {y:>7.2f}\" for x,y in zip(df.index, df.values)]))"
   ]
  },
  {
   "cell_type": "code",
   "execution_count": null,
   "metadata": {},
   "outputs": [],
   "source": [
    "def main():\n",
    "\n",
    "    # unpack\n",
    "    parser = argparse.ArgumentParser(description=\"Evaluates agent1 vs agent2 matches.\")\n",
    "\n",
    "    parser.add_argument(\"-a0\", \"--agent0\", type=str, \n",
    "                        help=\"Path to the file for agent0.\") \n",
    "\n",
    "    parser.add_argument(\"-a1\", \"--agent1\", type=str, \n",
    "                        help=\"Path to the file for agent1.\") \n",
    "                        \n",
    "    parser.add_argument(\"-n\", \"--n_threads\", type=int, default=-1,\n",
    "                        help=\"Number of cores to use when running matches.\")\n",
    "\n",
    "    parser.add_argument(\"-m\", \"--n_matches\", type=int, default=100,\n",
    "                        help=\"Number of matches to run.\")\n",
    "\n",
    "    args = parser.parse_args()\n",
    "\n",
    "    # run matches\n",
    "    if args.n_threads <= 0:\n",
    "        pool = multiprocessing.Pool(multiprocessing.cpu_count())\n",
    "    else:\n",
    "        pool = multiprocessing.Pool(args.n_threads)\n",
    "\n",
    "    results = pool.map(eval_files, [\n",
    "        (seed, args.agent0, args.agent1)\n",
    "        for seed in range(args.n_matches)\n",
    "    ])\n",
    "\n",
    "    pool.close()\n",
    "\n",
    "    # aggregate results\n",
    "    df = pd.DataFrame(results).mean()\n",
    "    print(\"\\n\".join([f\"{x:<8} {y:0.3f}\" for x,y in zip(df.index, df.values)]))\n",
    "    \n",
    "    return\n",
    "\n",
    "\n",
    "if __name__ == \"__main__\":\n",
    "    main()"
   ]
  }
 ],
 "metadata": {
  "kernelspec": {
   "display_name": "santa",
   "language": "python",
   "name": "santa"
  },
  "language_info": {
   "codemirror_mode": {
    "name": "ipython",
    "version": 3
   },
   "file_extension": ".py",
   "mimetype": "text/x-python",
   "name": "python",
   "nbconvert_exporter": "python",
   "pygments_lexer": "ipython3",
   "version": "3.7.9"
  }
 },
 "nbformat": 4,
 "nbformat_minor": 4
}
